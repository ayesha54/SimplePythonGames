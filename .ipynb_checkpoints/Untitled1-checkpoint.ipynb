{
 "cells": [
  {
   "cell_type": "code",
   "execution_count": 3,
   "metadata": {},
   "outputs": [],
   "source": [
    "from IPython.display import clear_output\n",
    "\n",
    "def display_board(board):\n",
    "    clear_output()\n",
    "    print(' '+board[7]+'|'+board[8]+'|'+board[9])\n",
    "    print('-------')\n",
    "    print(' '+board[4]+'|'+board[5]+'|'+board[6])\n",
    "    print('-------')\n",
    "    print(' '+board[1]+'|'+board[2]+'|'+board[3])\n",
    "    \n"
   ]
  },
  {
   "cell_type": "code",
   "execution_count": 4,
   "metadata": {},
   "outputs": [],
   "source": [
    "def player_input():\n",
    "    while not player_input == 'X' or player_input=='O':\n",
    "        marker = input(\"choose x or o as marker: \").upper()\n",
    "        if marker=='X':\n",
    "            return ('X','O')\n",
    "        else:\n",
    "            return ('O','X')\n",
    "\n",
    "        "
   ]
  },
  {
   "cell_type": "code",
   "execution_count": 5,
   "metadata": {},
   "outputs": [],
   "source": [
    "def place_marker(board, marker, position):\n",
    "    board[position]=marker"
   ]
  },
  {
   "cell_type": "code",
   "execution_count": 6,
   "metadata": {},
   "outputs": [],
   "source": [
    "def win_check(board, mark):\n",
    "    return ((board[7] == mark and board[8] == mark and board[9] == mark) or  # across the top\n",
    "            (board[4] == mark and board[5] == mark and board[6] == mark) or  # across the middle\n",
    "            (board[1] == mark and board[2] == mark and board[3] == mark) or  # across the bottom\n",
    "            (board[7] == mark and board[4] == mark and board[1] == mark) or  # down the middle\n",
    "            (board[8] == mark and board[5] == mark and board[2] == mark) or  # down the middle\n",
    "            (board[9] == mark and board[6] == mark and board[3] == mark) or  # down the right side\n",
    "            (board[7] == mark and board[5] == mark and board[3] == mark) or  # diagonal\n",
    "            (board[9] == mark and board[5] == mark and board[1] == mark))  # diagonal\n",
    "\n"
   ]
  },
  {
   "cell_type": "code",
   "execution_count": null,
   "metadata": {},
   "outputs": [],
   "source": [
    "import random\n",
    "\n",
    "def choose_first():\n",
    "    if random.randint(0,1)==0:\n",
    "        return 'Player 2'\n",
    "    else:\n",
    "        return 'Player 1'"
   ]
  },
  {
   "cell_type": "code",
   "execution_count": null,
   "metadata": {},
   "outputs": [],
   "source": [
    "def space_check(board, position):\n",
    "    return board[position]==' '\n",
    "\n",
    "\n"
   ]
  },
  {
   "cell_type": "code",
   "execution_count": null,
   "metadata": {},
   "outputs": [],
   "source": [
    "def full_board_check(board):\n",
    "    for i in range(1,10):\n",
    "        if space_check(board, i):\n",
    "            return False\n",
    "    return True\n"
   ]
  },
  {
   "cell_type": "code",
   "execution_count": null,
   "metadata": {},
   "outputs": [],
   "source": [
    "def player_choice(board):\n",
    "    position = 0\n",
    "    while position not in [1,2,3,4,5,6,7,8,9] or not space_check(board,position):\n",
    "        try:\n",
    "            position = int(input(\"choose your next position (1-9)\"))\n",
    "        except:\n",
    "            print(\"Please enter valid input\")\n",
    "    return position\n"
   ]
  },
  {
   "cell_type": "code",
   "execution_count": null,
   "metadata": {},
   "outputs": [],
   "source": [
    "def replay(board):\n",
    "    play_again = input('input y if you want to play again or press any other letter if you want to terminate: ').lower()\n",
    "    return play_again == 'y'\n",
    "        \n",
    "    \n"
   ]
  },
  {
   "cell_type": "code",
   "execution_count": null,
   "metadata": {},
   "outputs": [],
   "source": [
    "if __name__ == \"__main__\":\n",
    "\n",
    "    print('Welcome to Tic Tac Toe!')\n",
    "    board = [' ']*10\n",
    "    while True:\n",
    "        display_board(board)\n",
    "        player1_mark,player2_mark = player_input()\n",
    "        turn = choose_first()\n",
    "        print(turn + ' will go first.')\n",
    "        play_game = input('Are you ready to play? Enter Yes or No.')\n",
    "\n",
    "        if play_game.lower()[0] == 'y':\n",
    "            game_on = True\n",
    "        else:\n",
    "            game_on = False\n",
    "\n",
    "        while game_on:\n",
    "            if turn == 'Player 1':\n",
    "                display_board(board)\n",
    "                position = player_choice(board)\n",
    "                place_marker(board, player1_mark, position)\n",
    "                if win_check(board, player1_mark):\n",
    "                    display_board(board)\n",
    "                    print('Congratulations! You have won the game!')\n",
    "                    game_on = False\n",
    "                else:\n",
    "                    if full_board_check(board):\n",
    "                        display_board(board)\n",
    "                        print('The game is a draw!')\n",
    "                        break\n",
    "                    else:\n",
    "                        turn = 'Player 2'\n",
    "\n",
    "            else:\n",
    "                display_board(board)\n",
    "                position = player_choice(board)\n",
    "                place_marker(board, player2_mark, position)\n",
    "                if win_check(board, player2_mark):\n",
    "                    display_board(board)\n",
    "                    print('Congratulations! You have won the game!')\n",
    "\n",
    "                    game_on = False\n",
    "                else:\n",
    "                    if full_board_check(board):\n",
    "                        display_board(board)\n",
    "                        print('The game is a draw!')\n",
    "                        break\n",
    "                    else:\n",
    "                        turn = 'Player 1'\n",
    "\n",
    "\n",
    "\n",
    "        if not replay(board):\n",
    "            break\n"
   ]
  },
  {
   "cell_type": "code",
   "execution_count": null,
   "metadata": {},
   "outputs": [],
   "source": []
  },
  {
   "cell_type": "code",
   "execution_count": null,
   "metadata": {},
   "outputs": [],
   "source": []
  },
  {
   "cell_type": "code",
   "execution_count": null,
   "metadata": {},
   "outputs": [],
   "source": []
  },
  {
   "cell_type": "code",
   "execution_count": null,
   "metadata": {},
   "outputs": [],
   "source": []
  }
 ],
 "metadata": {
  "kernelspec": {
   "display_name": "Python 3",
   "language": "python",
   "name": "python3"
  },
  "language_info": {
   "codemirror_mode": {
    "name": "ipython",
    "version": 3
   },
   "file_extension": ".py",
   "mimetype": "text/x-python",
   "name": "python",
   "nbconvert_exporter": "python",
   "pygments_lexer": "ipython3",
   "version": "3.7.1"
  }
 },
 "nbformat": 4,
 "nbformat_minor": 2
}
